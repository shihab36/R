{
 "cells": [
  {
   "cell_type": "code",
   "execution_count": 1,
   "id": "a12b0dc0-13f2-4029-b4a8-e267b09146ea",
   "metadata": {},
   "outputs": [],
   "source": [
    "library(readxl)\n",
    "data = read_excel(\"GDP_CO2.xlsx\")"
   ]
  },
  {
   "cell_type": "code",
   "execution_count": 2,
   "id": "c6e15de3-c945-4d20-afc1-8e4fff6b5876",
   "metadata": {},
   "outputs": [
    {
     "data": {
      "text/html": [
       "<table>\n",
       "<thead><tr><th scope=col>year</th><th scope=col>gdp</th><th scope=col>co2</th><th scope=col>GDP</th><th scope=col>C02EmissionsInKilotons</th></tr></thead>\n",
       "<tbody>\n",
       "\t<tr><td>1990 [YR1990]</td><td>52.83        </td><td>11.52373     </td><td>52833978980  </td><td>11523.73     </td></tr>\n",
       "\t<tr><td>1991 [YR1991]</td><td>54.68        </td><td>10.83076     </td><td>54675363512  </td><td>10830.76     </td></tr>\n",
       "\t<tr><td>1992 [YR1992]</td><td>57.65        </td><td>11.82348     </td><td>57651171621  </td><td>11823.48     </td></tr>\n",
       "\t<tr><td>1993 [YR1993]</td><td>60.37        </td><td>12.56840     </td><td>60367442157  </td><td>12568.40     </td></tr>\n",
       "\t<tr><td>1994 [YR1994]</td><td>62.72        </td><td>13.54345     </td><td>62715811986  </td><td>13543.45     </td></tr>\n",
       "\t<tr><td>1995 [YR1995]</td><td>65.93        </td><td>16.55448     </td><td>65927663003  </td><td>16554.48     </td></tr>\n",
       "</tbody>\n",
       "</table>\n"
      ],
      "text/latex": [
       "\\begin{tabular}{r|lllll}\n",
       " year & gdp & co2 & GDP & C02EmissionsInKilotons\\\\\n",
       "\\hline\n",
       "\t 1990 {[}YR1990{]} & 52.83             & 11.52373          & 52833978980       & 11523.73         \\\\\n",
       "\t 1991 {[}YR1991{]} & 54.68             & 10.83076          & 54675363512       & 10830.76         \\\\\n",
       "\t 1992 {[}YR1992{]} & 57.65             & 11.82348          & 57651171621       & 11823.48         \\\\\n",
       "\t 1993 {[}YR1993{]} & 60.37             & 12.56840          & 60367442157       & 12568.40         \\\\\n",
       "\t 1994 {[}YR1994{]} & 62.72             & 13.54345          & 62715811986       & 13543.45         \\\\\n",
       "\t 1995 {[}YR1995{]} & 65.93             & 16.55448          & 65927663003       & 16554.48         \\\\\n",
       "\\end{tabular}\n"
      ],
      "text/markdown": [
       "\n",
       "| year | gdp | co2 | GDP | C02EmissionsInKilotons |\n",
       "|---|---|---|---|---|\n",
       "| 1990 [YR1990] | 52.83         | 11.52373      | 52833978980   | 11523.73      |\n",
       "| 1991 [YR1991] | 54.68         | 10.83076      | 54675363512   | 10830.76      |\n",
       "| 1992 [YR1992] | 57.65         | 11.82348      | 57651171621   | 11823.48      |\n",
       "| 1993 [YR1993] | 60.37         | 12.56840      | 60367442157   | 12568.40      |\n",
       "| 1994 [YR1994] | 62.72         | 13.54345      | 62715811986   | 13543.45      |\n",
       "| 1995 [YR1995] | 65.93         | 16.55448      | 65927663003   | 16554.48      |\n",
       "\n"
      ],
      "text/plain": [
       "  year          gdp   co2      GDP         C02EmissionsInKilotons\n",
       "1 1990 [YR1990] 52.83 11.52373 52833978980 11523.73              \n",
       "2 1991 [YR1991] 54.68 10.83076 54675363512 10830.76              \n",
       "3 1992 [YR1992] 57.65 11.82348 57651171621 11823.48              \n",
       "4 1993 [YR1993] 60.37 12.56840 60367442157 12568.40              \n",
       "5 1994 [YR1994] 62.72 13.54345 62715811986 13543.45              \n",
       "6 1995 [YR1995] 65.93 16.55448 65927663003 16554.48              "
      ]
     },
     "metadata": {},
     "output_type": "display_data"
    }
   ],
   "source": [
    "head(data)"
   ]
  },
  {
   "cell_type": "code",
   "execution_count": 4,
   "id": "84bf85c7-c473-44c7-86e7-e745433aeb88",
   "metadata": {},
   "outputs": [],
   "source": [
    "df = data.frame(data)"
   ]
  },
  {
   "cell_type": "code",
   "execution_count": 5,
   "id": "ee0458f2-db4c-4ce9-9742-f664fa337c3d",
   "metadata": {},
   "outputs": [
    {
     "name": "stdout",
     "output_type": "stream",
     "text": [
      "'data.frame':\t31 obs. of  5 variables:\n",
      " $ year                  : chr  \"1990 [YR1990]\" \"1991 [YR1991]\" \"1992 [YR1992]\" \"1993 [YR1993]\" ...\n",
      " $ gdp                   : num  52.8 54.7 57.6 60.4 62.7 ...\n",
      " $ co2                   : num  11.5 10.8 11.8 12.6 13.5 ...\n",
      " $ GDP                   : num  5.28e+10 5.47e+10 5.77e+10 6.04e+10 6.27e+10 ...\n",
      " $ C02EmissionsInKilotons: num  11524 10831 11823 12568 13543 ...\n"
     ]
    }
   ],
   "source": [
    "str(df)"
   ]
  },
  {
   "cell_type": "code",
   "execution_count": 7,
   "id": "5277b06c-6837-42f4-bdea-cf3b7b913fd9",
   "metadata": {},
   "outputs": [
    {
     "ename": "ERROR",
     "evalue": "Error in r[i1] - r[-length(r):-(length(r) - lag + 1L)]: non-numeric argument to binary operator\n",
     "output_type": "error",
     "traceback": [
      "Error in r[i1] - r[-length(r):-(length(r) - lag + 1L)]: non-numeric argument to binary operator\nTraceback:\n",
      "1. hist(df$gdp, df$year)",
      "2. hist.default(df$gdp, df$year)",
      "3. diff(breaks)",
      "4. diff.default(breaks)"
     ]
    }
   ],
   "source": [
    "hist(df$gdp, df$year)"
   ]
  },
  {
   "cell_type": "code",
   "execution_count": 8,
   "id": "20d2a8e3-c51e-401c-b1f8-faea82419b41",
   "metadata": {},
   "outputs": [
    {
     "data": {
      "text/html": [
       "0.991059511137656"
      ],
      "text/latex": [
       "0.991059511137656"
      ],
      "text/markdown": [
       "0.991059511137656"
      ],
      "text/plain": [
       "[1] 0.9910595"
      ]
     },
     "metadata": {},
     "output_type": "display_data"
    }
   ],
   "source": [
    "cor(df$gdp, df$co2)"
   ]
  },
  {
   "cell_type": "code",
   "execution_count": 9,
   "id": "a15c3166-f952-4fae-b524-056060312743",
   "metadata": {},
   "outputs": [
    {
     "data": {
      "text/plain": [
       "     year                gdp              co2             GDP           \n",
       " Length:31          Min.   : 52.83   Min.   :10.83   Min.   :5.283e+10  \n",
       " Class :character   1st Qu.: 73.86   1st Qu.:19.11   1st Qu.:7.387e+10  \n",
       " Mode  :character   Median :106.94   Median :32.71   Median :1.069e+11  \n",
       "                    Mean   :126.52   Mean   :41.51   Mean   :1.265e+11  \n",
       "                    3rd Qu.:167.72   3rd Qu.:60.98   3rd Qu.:1.677e+11  \n",
       "                    Max.   :266.76   Max.   :95.94   Max.   :2.668e+11  \n",
       " C02EmissionsInKilotons\n",
       " Min.   :10831         \n",
       " 1st Qu.:19110         \n",
       " Median :32711         \n",
       " Mean   :41509         \n",
       " 3rd Qu.:60975         \n",
       " Max.   :95945         "
      ]
     },
     "metadata": {},
     "output_type": "display_data"
    }
   ],
   "source": [
    "summary(df)"
   ]
  },
  {
   "cell_type": "code",
   "execution_count": null,
   "id": "81d263f0-bbcf-46d5-bfc0-63595411dd2d",
   "metadata": {},
   "outputs": [],
   "source": []
  }
 ],
 "metadata": {
  "kernelspec": {
   "display_name": "Python 3 (ipykernel)",
   "language": "python",
   "name": "python3"
  },
  "language_info": {
   "codemirror_mode": {
    "name": "ipython",
    "version": 3
   },
   "file_extension": ".py",
   "mimetype": "text/x-python",
   "name": "python",
   "nbconvert_exporter": "python",
   "pygments_lexer": "ipython3",
   "version": "3.12.4"
  }
 },
 "nbformat": 4,
 "nbformat_minor": 5
}
